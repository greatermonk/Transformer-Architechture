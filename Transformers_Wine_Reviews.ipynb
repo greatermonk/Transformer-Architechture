{
  "nbformat": 4,
  "nbformat_minor": 0,
  "metadata": {
    "colab": {
      "provenance": [],
      "gpuType": "T4",
      "authorship_tag": "ABX9TyM20yxJWs00eUZsMaQ5nWQ4",
      "include_colab_link": true
    },
    "kernelspec": {
      "name": "python3",
      "display_name": "Python 3"
    },
    "language_info": {
      "name": "python"
    },
    "accelerator": "GPU"
  },
  "cells": [
    {
      "cell_type": "markdown",
      "metadata": {
        "id": "view-in-github",
        "colab_type": "text"
      },
      "source": [
        "<a href=\"https://colab.research.google.com/github/greatermonk/Transformer-Architechture/blob/main/Transformers_Wine_Reviews.ipynb\" target=\"_parent\"><img src=\"https://colab.research.google.com/assets/colab-badge.svg\" alt=\"Open In Colab\"/></a>"
      ]
    },
    {
      "cell_type": "markdown",
      "source": [
        "# Import Necessary Libraries\n",
        "**1)tensorflow: >= 2.16**\n",
        "\n",
        "**2)keras: >= 3.0**\n",
        "\n",
        "**3)matplotlib: >= 3.9.0**\n",
        "\n",
        "**4)numpy: >= 2.0**"
      ],
      "metadata": {
        "id": "vKjuXNWZzXdR"
      }
    },
    {
      "cell_type": "code",
      "execution_count": 1,
      "metadata": {
        "id": "gLfaWWi0zKr0"
      },
      "outputs": [],
      "source": [
        "import os\n",
        "#os.environ['TF_CPP_MIN_LOG_LEVEL'] = '1'\n",
        "import numpy as np\n",
        "import json\n",
        "import re\n",
        "import string\n",
        "from tensorflow.python import keras\n",
        "from IPython.display import display, HTML\n",
        "import tensorflow as tf\n",
        "from keras import layers, models, losses, callbacks\n",
        "import matplotlib.pyplot as plt\n",
        "from tensorflow.keras.saving import register_keras_serializable"
      ]
    },
    {
      "cell_type": "markdown",
      "source": [
        "# Mount you google drive and load the wine-reviews dataset\n"
      ],
      "metadata": {
        "id": "X14V3fNG09Ge"
      }
    },
    {
      "cell_type": "code",
      "source": [
        "from google.colab import drive\n",
        "drive.mount('/content/drive')\n",
        "with open('/content/drive/MyDrive/Transformers/winemag-data-130k-v2.json') as json_data:\n",
        "     wine_reviews = json.load(json_data)"
      ],
      "metadata": {
        "id": "AaAnS3gS08Po"
      },
      "execution_count": null,
      "outputs": []
    },
    {
      "cell_type": "markdown",
      "source": [
        "# Define HyperParameters for our model\n",
        "\n",
        "**i) VOCAB_SIZE:**  The size of the vocabulary used by the model. It defines how many unique words or tokens the model can handle.\n",
        "\n",
        "**ii) MAX_LEN:**  The maximum length of input sequences (in tokens).\n",
        "\n",
        "**iii) EMBEDDING_DIM:**  The dimension of the word embeddings (vector representation of words).\n",
        "\n",
        "**iv) K_DIM:**  The dimension of the keys used in the attention mechanism (specifically for multi-head attention in transformers).\n",
        "\n",
        "**v) N_HEADS:**  The number of attention heads in the multi-head attention mechanism.\n",
        "\n",
        "**vi) FF_DIM:**  The dimensionality of the feedforward layer in the transformer block.\n",
        "\n",
        "**vii) VALIDATION_SPLIT:**  The fraction of the dataset that is used for validation.\n",
        "\n",
        "**viii) SEED:**   A fixed random seed for reproducibility.\n",
        "\n",
        "**ix) LOAD_MODEL:**   A flag indicating whether to load a pre-trained model or start training from scratch.\n",
        "\n",
        "**x) BATCH_SIZE:**  The number of samples processed before the model's internal parameters are updated.\n",
        "\n",
        "**xi) EPOCHS:**  The number of complete passes through the entire training dataset.\n",
        "\n"
      ],
      "metadata": {
        "id": "ohoI_nrA1V9S"
      }
    },
    {
      "cell_type": "code",
      "source": [
        "VOCAB_SIZE = 10000\n",
        "MAX_LEN = 80\n",
        "EMBEDDING_DIM = 256\n",
        "K_DIM = 256\n",
        "N_HEADS = 2\n",
        "FF_DIM = 256\n",
        "VALIDATION_SPLIT = 0.2\n",
        "SEED = 42\n",
        "LOAD_MODEL = False\n",
        "BATCH_SIZE = 32\n",
        "EPOCHS = 10"
      ],
      "metadata": {
        "id": "5bxCUGEz1VgL"
      },
      "execution_count": 3,
      "outputs": []
    },
    {
      "cell_type": "markdown",
      "source": [
        "# Filter Dataset(preprocessing)"
      ],
      "metadata": {
        "id": "1zLJnn3F3kTq"
      }
    },
    {
      "cell_type": "code",
      "source": [
        "filtered_dataset = [\"wine review : \" + x[\"country\"] + \" : \" + x[\"province\"] + \":\" + x[\"variety\"] + \" : \" + x[\"description\"] for x in wine_reviews if x[\"country\"] is not None and x[\"province\"] is not None and x[\"variety\"] is not None and x[\"description\"] is not None]\n",
        "\n",
        "def pad_punctuation(s):\n",
        "     s = re.sub(f\"([{string.punctuation}, '\\n'])\", r\" \\1 \", s)\n",
        "     s = re.sub(\" +\", \" \", s)\n",
        "     return s\n",
        "\n",
        "text_data = [pad_punctuation(x) for x in filtered_dataset]"
      ],
      "metadata": {
        "id": "y6g-X1-x3knK"
      },
      "execution_count": 4,
      "outputs": []
    },
    {
      "cell_type": "code",
      "source": [
        "text_dataset = tf.data.Dataset.from_tensor_slices(text_data).batch(BATCH_SIZE).shuffle(129971)"
      ],
      "metadata": {
        "id": "Rd9TVczf4T3Q"
      },
      "execution_count": 5,
      "outputs": []
    },
    {
      "cell_type": "markdown",
      "source": [
        "**transforms text into tokenized sequences of integers, with each word represented by its corresponding index in the vocabulary**"
      ],
      "metadata": {
        "id": "p4bDI74e4gBH"
      }
    },
    {
      "cell_type": "code",
      "source": [
        "vectorize_layer = layers.TextVectorization(standardize=\"lower\", max_tokens=VOCAB_SIZE, output_mode=\"int\", output_sequence_length=MAX_LEN + 1)\n",
        "vectorize_layer.adapt(text_dataset)\n",
        "vocab = vectorize_layer.get_vocabulary()   #Retrieves the list of words in the vocabulary."
      ],
      "metadata": {
        "id": "Z4kAJUGQ4XlP"
      },
      "execution_count": 6,
      "outputs": []
    },
    {
      "cell_type": "code",
      "source": [
        "def prepare_inputs(text):\n",
        "     text = tf.expand_dims(text, -1)\n",
        "     tokenized_sentence = vectorize_layer(text)\n",
        "     x = tokenized_sentence[:, :-1]\n",
        "     y = tokenized_sentence[:, 1:]\n",
        "     return x, y\n",
        "\n",
        "train_dataset = text_dataset.map(prepare_inputs)"
      ],
      "metadata": {
        "id": "r7QVGmBW41Dv"
      },
      "execution_count": 7,
      "outputs": []
    },
    {
      "cell_type": "markdown",
      "source": [
        "# Define Attention Mask\n"
      ],
      "metadata": {
        "id": "pcM1hX875GWB"
      }
    },
    {
      "cell_type": "code",
      "source": [
        "def casual_attention_mask(batch_size, n_dest, n_src, dtype):\n",
        "     i = tf.range(n_dest)[:, None]\n",
        "     j = tf.range(n_src)\n",
        "     m = i >= j - n_src + n_dest\n",
        "     mask = tf.cast(m, dtype)\n",
        "     mask = tf.reshape(mask, [1, n_dest, n_src])\n",
        "     mult = tf.concat([tf.expand_dims(batch_size, -1), tf.constant([1, 1], dtype = tf.int32)], 0)\n",
        "     return tf.tile(mask, mult)\n",
        "\n",
        "print(np.transpose(casual_attention_mask(1, 10, 10, tf.int32)[0]))   #Create an mask of 10 x 10"
      ],
      "metadata": {
        "colab": {
          "base_uri": "https://localhost:8080/"
        },
        "id": "1PA69Syj5Kzm",
        "outputId": "e6d460b6-f53d-4432-8b57-53f2177a5d9f"
      },
      "execution_count": 8,
      "outputs": [
        {
          "output_type": "stream",
          "name": "stdout",
          "text": [
            "[[1 1 1 1 1 1 1 1 1 1]\n",
            " [0 1 1 1 1 1 1 1 1 1]\n",
            " [0 0 1 1 1 1 1 1 1 1]\n",
            " [0 0 0 1 1 1 1 1 1 1]\n",
            " [0 0 0 0 1 1 1 1 1 1]\n",
            " [0 0 0 0 0 1 1 1 1 1]\n",
            " [0 0 0 0 0 0 1 1 1 1]\n",
            " [0 0 0 0 0 0 0 1 1 1]\n",
            " [0 0 0 0 0 0 0 0 1 1]\n",
            " [0 0 0 0 0 0 0 0 0 1]]\n"
          ]
        }
      ]
    },
    {
      "cell_type": "markdown",
      "source": [
        "# Define Transformer Block"
      ],
      "metadata": {
        "id": "n1J7vAeJNcYp"
      }
    },
    {
      "cell_type": "markdown",
      "source": [
        "![Transformer block.png](data:image/png;base64,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)"
      ],
      "metadata": {
        "id": "KQMX2vHfNmX4"
      }
    },
    {
      "cell_type": "code",
      "source": [
        "@register_keras_serializable()\n",
        "class TransformerBlock(layers.Layer):\n",
        "     def __init__(self, num_heads, key_dim, embed_dim, ff_dim, dropout_rate = 0.1):\n",
        "          super(TransformerBlock, self).__init__()\n",
        "          self.num_heads = num_heads\n",
        "          self.key_dim = key_dim\n",
        "          self.embed_dim = embed_dim\n",
        "          self.ff_dim = ff_dim\n",
        "          self.dropout_rate = dropout_rate\n",
        "          self.attention = layers.MultiHeadAttention(num_heads, key_dim, output_shape = embed_dim)\n",
        "          self.dropout_1 = layers.Dropout(self.dropout_rate)\n",
        "          self.layerNormalizationLayer1 = layers.LayerNormalization(epsilon=1e-6)\n",
        "          self.linearLayer1 = layers.Dense(self.ff_dim, activation=\"relu\")\n",
        "          self.linearLayer2 = layers.Dense(self.embed_dim)\n",
        "          self.dropout_2 = layers.Dropout(self.dropout_rate)\n",
        "          self.layerNormalizationLayer2 = layers.LayerNormalization(epsilon=1e-6)\n",
        "\n",
        "\n",
        "     def call(self, inputs):\n",
        "          input_shape = tf.shape(inputs)\n",
        "          batch_size = input_shape[0]\n",
        "          sequence_length = input_shape[1]\n",
        "          casual_mask = casual_attention_mask(batch_size, sequence_length, sequence_length, tf.bool)\n",
        "          attn_output, attn_scores = self.attention(inputs, inputs, attention_mask = casual_mask, return_attention_scores = True)\n",
        "          attn_output = self.dropout_1(attn_output)\n",
        "          out1 = self.layerNormalizationLayer1(inputs + attn_output)\n",
        "          ffn_1 = self.linearLayer1(out1)\n",
        "          ffn_2 = self.linearLayer2(ffn_1)\n",
        "          ffn_output = self.dropout_2(ffn_2)\n",
        "          return self.layerNormalizationLayer2(out1 + ffn_output), attn_scores\n",
        "\n",
        "\n",
        "     def get_config(self):\n",
        "          config = super().get_config()\n",
        "          config.update(\n",
        "               {\n",
        "                    \"key_dim\": self.key_dim,\n",
        "                    \"embed_dim\": self.embed_dim,\n",
        "                    \"num_heads\": self.num_heads,\n",
        "                    \"ff_dim\": self.ff_dim,\n",
        "                    \"dropout_rate\": self.dropout_rate\n",
        "               }\n",
        "          )\n",
        "          return config"
      ],
      "metadata": {
        "id": "sSHCGIGkM-U7"
      },
      "execution_count": 9,
      "outputs": []
    },
    {
      "cell_type": "markdown",
      "source": [
        "# Tokens And Positional Embeddings"
      ],
      "metadata": {
        "id": "7J4O0VSvQHvl"
      }
    },
    {
      "cell_type": "code",
      "source": [
        "@register_keras_serializable()\n",
        "class TokenAndPositionalEmbedding(layers.Layer):\n",
        "     def __init__(self, max_len, vocab_size, embed_dim):\n",
        "          super(TokenAndPositionalEmbedding, self).__init__()\n",
        "          self.max_len = max_len\n",
        "          self.vocab_size = vocab_size\n",
        "          self.embed_dim = embed_dim\n",
        "          self.token_embedding = layers.Embedding(input_dim = vocab_size, output_dim = embed_dim)\n",
        "          self.positional_embedding = layers.Embedding(input_dim = max_len, output_dim = embed_dim)\n",
        "\n",
        "     def call(self, x):\n",
        "          max_length = tf.shape(x)[-1]\n",
        "          positions = tf.range(0, max_length, 1)\n",
        "          position_embeddings = self.positional_embedding(positions)\n",
        "          token_embeddings = self.token_embedding(x)\n",
        "          return token_embeddings + position_embeddings\n",
        "\n",
        "     def get_config(self):\n",
        "          config = super().get_config()\n",
        "          config.update(\n",
        "               {\n",
        "                \"max_length\": self.max_len,\n",
        "                \"vocab_size\": self.vocab_size,\n",
        "                \"embed_dim\": self.embed_dim\n",
        "               }\n",
        "          )\n",
        "          return config"
      ],
      "metadata": {
        "id": "8DhGIn_1QHSN"
      },
      "execution_count": 10,
      "outputs": []
    },
    {
      "cell_type": "markdown",
      "source": [
        "**Create an compile the model**"
      ],
      "metadata": {
        "id": "xlLxhSX4RF4L"
      }
    },
    {
      "cell_type": "code",
      "source": [
        "inputs = layers.Input(shape = (None, ), dtype = tf.int32)\n",
        "x = TokenAndPositionalEmbedding(MAX_LEN, VOCAB_SIZE, EMBEDDING_DIM)(inputs)\n",
        "x, attention_scores = TransformerBlock(N_HEADS, K_DIM, EMBEDDING_DIM, FF_DIM)(x)\n",
        "outputs = layers.Dense(VOCAB_SIZE, activation = \"softmax\")(x)\n",
        "gpt_model = models.Model(inputs = inputs, outputs = [outputs, attention_scores])\n",
        "gpt_model.compile(\"adam\", loss = [losses.SparseCategoricalCrossentropy(), None], metrics = [\"acc\", \"precision\"])\n",
        "gpt_model.summary()"
      ],
      "metadata": {
        "id": "W8xgBMrsRBLz",
        "colab": {
          "base_uri": "https://localhost:8080/",
          "height": 306
        },
        "outputId": "00767227-71ae-4367-a1a4-959127922ec2"
      },
      "execution_count": 11,
      "outputs": [
        {
          "output_type": "display_data",
          "data": {
            "text/plain": [
              "\u001b[1mModel: \"functional\"\u001b[0m\n"
            ],
            "text/html": [
              "<pre style=\"white-space:pre;overflow-x:auto;line-height:normal;font-family:Menlo,'DejaVu Sans Mono',consolas,'Courier New',monospace\"><span style=\"font-weight: bold\">Model: \"functional\"</span>\n",
              "</pre>\n"
            ]
          },
          "metadata": {}
        },
        {
          "output_type": "display_data",
          "data": {
            "text/plain": [
              "┏━━━━━━━━━━━━━━━━━━━━━━━━━━━━━━━━━━━━━━┳━━━━━━━━━━━━━━━━━━━━━━━━━━━━━┳━━━━━━━━━━━━━━━━━┓\n",
              "┃\u001b[1m \u001b[0m\u001b[1mLayer (type)                        \u001b[0m\u001b[1m \u001b[0m┃\u001b[1m \u001b[0m\u001b[1mOutput Shape               \u001b[0m\u001b[1m \u001b[0m┃\u001b[1m \u001b[0m\u001b[1m        Param #\u001b[0m\u001b[1m \u001b[0m┃\n",
              "┡━━━━━━━━━━━━━━━━━━━━━━━━━━━━━━━━━━━━━━╇━━━━━━━━━━━━━━━━━━━━━━━━━━━━━╇━━━━━━━━━━━━━━━━━┩\n",
              "│ input_layer (\u001b[38;5;33mInputLayer\u001b[0m)             │ (\u001b[38;5;45mNone\u001b[0m, \u001b[38;5;45mNone\u001b[0m)                │               \u001b[38;5;34m0\u001b[0m │\n",
              "├──────────────────────────────────────┼─────────────────────────────┼─────────────────┤\n",
              "│ token_and_positional_embedding       │ (\u001b[38;5;45mNone\u001b[0m, \u001b[38;5;45mNone\u001b[0m, \u001b[38;5;34m256\u001b[0m)           │       \u001b[38;5;34m2,580,480\u001b[0m │\n",
              "│ (\u001b[38;5;33mTokenAndPositionalEmbedding\u001b[0m)        │                             │                 │\n",
              "├──────────────────────────────────────┼─────────────────────────────┼─────────────────┤\n",
              "│ transformer_block (\u001b[38;5;33mTransformerBlock\u001b[0m) │ [(\u001b[38;5;45mNone\u001b[0m, \u001b[38;5;45mNone\u001b[0m, \u001b[38;5;34m256\u001b[0m), (\u001b[38;5;45mNone\u001b[0m,  │         \u001b[38;5;34m658,688\u001b[0m │\n",
              "│                                      │ \u001b[38;5;34m2\u001b[0m, \u001b[38;5;45mNone\u001b[0m, \u001b[38;5;45mNone\u001b[0m)]             │                 │\n",
              "├──────────────────────────────────────┼─────────────────────────────┼─────────────────┤\n",
              "│ dense_2 (\u001b[38;5;33mDense\u001b[0m)                      │ (\u001b[38;5;45mNone\u001b[0m, \u001b[38;5;45mNone\u001b[0m, \u001b[38;5;34m10000\u001b[0m)         │       \u001b[38;5;34m2,570,000\u001b[0m │\n",
              "└──────────────────────────────────────┴─────────────────────────────┴─────────────────┘\n"
            ],
            "text/html": [
              "<pre style=\"white-space:pre;overflow-x:auto;line-height:normal;font-family:Menlo,'DejaVu Sans Mono',consolas,'Courier New',monospace\">┏━━━━━━━━━━━━━━━━━━━━━━━━━━━━━━━━━━━━━━┳━━━━━━━━━━━━━━━━━━━━━━━━━━━━━┳━━━━━━━━━━━━━━━━━┓\n",
              "┃<span style=\"font-weight: bold\"> Layer (type)                         </span>┃<span style=\"font-weight: bold\"> Output Shape                </span>┃<span style=\"font-weight: bold\">         Param # </span>┃\n",
              "┡━━━━━━━━━━━━━━━━━━━━━━━━━━━━━━━━━━━━━━╇━━━━━━━━━━━━━━━━━━━━━━━━━━━━━╇━━━━━━━━━━━━━━━━━┩\n",
              "│ input_layer (<span style=\"color: #0087ff; text-decoration-color: #0087ff\">InputLayer</span>)             │ (<span style=\"color: #00d7ff; text-decoration-color: #00d7ff\">None</span>, <span style=\"color: #00d7ff; text-decoration-color: #00d7ff\">None</span>)                │               <span style=\"color: #00af00; text-decoration-color: #00af00\">0</span> │\n",
              "├──────────────────────────────────────┼─────────────────────────────┼─────────────────┤\n",
              "│ token_and_positional_embedding       │ (<span style=\"color: #00d7ff; text-decoration-color: #00d7ff\">None</span>, <span style=\"color: #00d7ff; text-decoration-color: #00d7ff\">None</span>, <span style=\"color: #00af00; text-decoration-color: #00af00\">256</span>)           │       <span style=\"color: #00af00; text-decoration-color: #00af00\">2,580,480</span> │\n",
              "│ (<span style=\"color: #0087ff; text-decoration-color: #0087ff\">TokenAndPositionalEmbedding</span>)        │                             │                 │\n",
              "├──────────────────────────────────────┼─────────────────────────────┼─────────────────┤\n",
              "│ transformer_block (<span style=\"color: #0087ff; text-decoration-color: #0087ff\">TransformerBlock</span>) │ [(<span style=\"color: #00d7ff; text-decoration-color: #00d7ff\">None</span>, <span style=\"color: #00d7ff; text-decoration-color: #00d7ff\">None</span>, <span style=\"color: #00af00; text-decoration-color: #00af00\">256</span>), (<span style=\"color: #00d7ff; text-decoration-color: #00d7ff\">None</span>,  │         <span style=\"color: #00af00; text-decoration-color: #00af00\">658,688</span> │\n",
              "│                                      │ <span style=\"color: #00af00; text-decoration-color: #00af00\">2</span>, <span style=\"color: #00d7ff; text-decoration-color: #00d7ff\">None</span>, <span style=\"color: #00d7ff; text-decoration-color: #00d7ff\">None</span>)]             │                 │\n",
              "├──────────────────────────────────────┼─────────────────────────────┼─────────────────┤\n",
              "│ dense_2 (<span style=\"color: #0087ff; text-decoration-color: #0087ff\">Dense</span>)                      │ (<span style=\"color: #00d7ff; text-decoration-color: #00d7ff\">None</span>, <span style=\"color: #00d7ff; text-decoration-color: #00d7ff\">None</span>, <span style=\"color: #00af00; text-decoration-color: #00af00\">10000</span>)         │       <span style=\"color: #00af00; text-decoration-color: #00af00\">2,570,000</span> │\n",
              "└──────────────────────────────────────┴─────────────────────────────┴─────────────────┘\n",
              "</pre>\n"
            ]
          },
          "metadata": {}
        },
        {
          "output_type": "display_data",
          "data": {
            "text/plain": [
              "\u001b[1m Total params: \u001b[0m\u001b[38;5;34m5,809,168\u001b[0m (22.16 MB)\n"
            ],
            "text/html": [
              "<pre style=\"white-space:pre;overflow-x:auto;line-height:normal;font-family:Menlo,'DejaVu Sans Mono',consolas,'Courier New',monospace\"><span style=\"font-weight: bold\"> Total params: </span><span style=\"color: #00af00; text-decoration-color: #00af00\">5,809,168</span> (22.16 MB)\n",
              "</pre>\n"
            ]
          },
          "metadata": {}
        },
        {
          "output_type": "display_data",
          "data": {
            "text/plain": [
              "\u001b[1m Trainable params: \u001b[0m\u001b[38;5;34m5,809,168\u001b[0m (22.16 MB)\n"
            ],
            "text/html": [
              "<pre style=\"white-space:pre;overflow-x:auto;line-height:normal;font-family:Menlo,'DejaVu Sans Mono',consolas,'Courier New',monospace\"><span style=\"font-weight: bold\"> Trainable params: </span><span style=\"color: #00af00; text-decoration-color: #00af00\">5,809,168</span> (22.16 MB)\n",
              "</pre>\n"
            ]
          },
          "metadata": {}
        },
        {
          "output_type": "display_data",
          "data": {
            "text/plain": [
              "\u001b[1m Non-trainable params: \u001b[0m\u001b[38;5;34m0\u001b[0m (0.00 B)\n"
            ],
            "text/html": [
              "<pre style=\"white-space:pre;overflow-x:auto;line-height:normal;font-family:Menlo,'DejaVu Sans Mono',consolas,'Courier New',monospace\"><span style=\"font-weight: bold\"> Non-trainable params: </span><span style=\"color: #00af00; text-decoration-color: #00af00\">0</span> (0.00 B)\n",
              "</pre>\n"
            ]
          },
          "metadata": {}
        }
      ]
    },
    {
      "cell_type": "markdown",
      "source": [
        "# TextGenerator"
      ],
      "metadata": {
        "id": "0t86S5ZDQzj0"
      }
    },
    {
      "cell_type": "code",
      "source": [
        "class TextGenerator(callbacks.Callback):\n",
        "     def __init__(self, index_to_word):\n",
        "          super(TextGenerator, self).__init__()\n",
        "          self.index_to_word = index_to_word\n",
        "          self.word_to_index = {word: index for index, word in enumerate(index_to_word)}\n",
        "          self.word_probs = {}\n",
        "\n",
        "     def sample_from(self, probs, temperature):\n",
        "          probs =  probs ** (1 / temperature)\n",
        "          probs = probs / np.sum(probs)\n",
        "          return np.random.choice(len(probs), p = probs), probs\n",
        "\n",
        "     def generate(self, start_prompt, max_tokens, temperature):\n",
        "          start_tokens = [self.word_to_index.get(x, 1) for x in start_prompt.split()]\n",
        "          sample_token = None\n",
        "          info = []\n",
        "          while len(start_tokens) < max_tokens and sample_token != 0:\n",
        "               x = np.array([start_tokens])\n",
        "               y, attn  = self.model.predict(x, verbose = 0)\n",
        "               sample_token, probs = self.sample_from(y[0][-1], temperature)\n",
        "               info.append(\n",
        "                    {\n",
        "                         \"prompt\": start_prompt,\n",
        "                         \"word_probabilities\": probs,\n",
        "                         \"attention_scores\": attn[0, :, -1, :]\n",
        "                    }\n",
        "               )\n",
        "               start_tokens.append(sample_token)\n",
        "               start_prompt = start_prompt + \" \" + self.index_to_word[sample_token]\n",
        "          print(f\"\\nGenerated text:\\n{start_prompt}\\n\")\n",
        "          return info\n",
        "\n",
        "     def on_epoch_end(self, epoch, logs=None):\n",
        "          super().on_epoch_end(epoch, logs)\n",
        "          self.generate(\"wine review\", max_tokens = 50, temperature = 1.0)"
      ],
      "metadata": {
        "id": "HNLrvzF7Qz6z"
      },
      "execution_count": 12,
      "outputs": []
    },
    {
      "cell_type": "markdown",
      "source": [
        "**train and Save the model**"
      ],
      "metadata": {
        "id": "RjhC2JcdRjvL"
      }
    },
    {
      "cell_type": "code",
      "source": [
        "model_checkpoint_callback = callbacks.ModelCheckpoint(filepath =  \"/.weights.h5\", save_weights_only=True, save_freq=\"epoch\", verbose = 0)\n",
        "tensorboard_callback = callbacks.TensorBoard(log_dir = \"./logs\")\n",
        "text_generator = TextGenerator(vocab)\n",
        "gpt_model.fit(train_dataset, epochs = EPOCHS, callbacks = [model_checkpoint_callback, tensorboard_callback, text_generator], batch_size=BATCH_SIZE)\n",
        "#gpt_model.save('/content/drive/MyDrive/Transformers/gpt_model.keras')\n",
        "#gpt_model.save_weights('/content/drive/MyDrive/Transformers/gpt_model_weights.weights.h5')"
      ],
      "metadata": {
        "id": "sFVH8eutRsyK"
      },
      "execution_count": null,
      "outputs": []
    },
    {
      "cell_type": "code",
      "source": [
        "def display_probs_graph(info, vocab, top_k=10):\n",
        "    for i in info:\n",
        "        # Display highlighted text\n",
        "        highlighted_text = []\n",
        "        for word, attn_score in zip(i[\"prompt\"].split(), np.mean(i[\"attention_scores\"], axis=0)):\n",
        "             highlighted_text.append(\n",
        "                  f\"<span style='background-color: rgba(155, 135, 12, {attn_score / max(np.mean(i['attention_scores'], axis=0))})'> \\t {word}</span>\"\n",
        "             )\n",
        "        highlighted_text = \" \".join(highlighted_text)\n",
        "        display(HTML(highlighted_text))\n",
        "        # Get top k probabilities and their corresponding words\n",
        "        word_probs = i[\"word_probabilities\"]\n",
        "        top_indices = np.argsort(word_probs)[::-1][:top_k]\n",
        "        top_probs = word_probs[top_indices]\n",
        "        top_words = [vocab[idx] for idx in top_indices]\n",
        "        fig, ax = plt.subplots(figsize=(10, 5))\n",
        "        plt.style.use(\"ggplot\")\n",
        "        y_pos = np.arange(len(top_words))\n",
        "        ax.barh(y_pos, top_probs, align='center')\n",
        "        ax.set_yticks(y_pos)\n",
        "        ax.set_yticklabels(top_words)\n",
        "        ax.invert_yaxis()  # Labels read top-to-bottom\n",
        "        ax.set_xlabel('Probability')\n",
        "        ax.set_title('Top {} tokens and their probabilities'.format(top_k))\n",
        "        for j, v in enumerate(top_probs):\n",
        "            ax.text(v, j, f' {v:.2%}', va='center')\n",
        "        plt.tight_layout()\n",
        "        plt.show()\n",
        "        print(\"---------------------------------------------------------------------------------\\n\")"
      ],
      "metadata": {
        "id": "1Kd_TXBdR60l"
      },
      "execution_count": 14,
      "outputs": []
    },
    {
      "cell_type": "code",
      "source": [
        "info = text_generator.generate(\"wine_review: us\", max_tokens = 50, temperature = 1.0)\n",
        "#info2 = text_generator.generate(\"wine_review: italy\", max_tokens = 30, temperature = 0.7)\n",
        "#info3 = text_generator.generate(\"wine_review: germany\", max_tokens = 30, temperature = 0.5)\n",
        "display_probs_graph(info, vocab)\n",
        "print(\"\\n\")\n",
        "#print_probs(info2, vocab)\n",
        "print(\"\\n\")\n",
        "#print_probs(info3, vocab)"
      ],
      "metadata": {
        "id": "0dQ3VU27R-Qs"
      },
      "execution_count": null,
      "outputs": []
    }
  ]
}